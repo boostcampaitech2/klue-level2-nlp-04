{
 "cells": [
  {
   "cell_type": "code",
   "execution_count": 105,
   "id": "7bb8c5d4-a22b-46a7-a347-004d736cbb95",
   "metadata": {},
   "outputs": [],
   "source": [
    "from koeda import AEDA\n",
    "from koeda import RD # Random Deletion\n",
    "from koeda import RI # Random Insertion\n",
    "from koeda import SR # Synonym Replacement\n",
    "from koeda import RS # Reandom Swap"
   ]
  },
  {
   "cell_type": "code",
   "execution_count": 97,
   "id": "f4c3fd6f-13c3-46f8-865f-f1698bfc0e4e",
   "metadata": {},
   "outputs": [],
   "source": [
    "morpheme_analyzer_list = [\"Okt\", \"Kkma\", \"Komoran\", \"Mecab\", \"Hannanum\"]\n",
    "morpheme_analyzer = morpheme_analyzer_list[0]"
   ]
  },
  {
   "cell_type": "code",
   "execution_count": 99,
   "id": "cd8c54fb-f278-49e7-bfd7-80c06b16f403",
   "metadata": {},
   "outputs": [],
   "source": [
    "data = [\"안녕하세요, 어머님. 저는 루다 남자친구 상민입니다.\", \"저희 결혼을 허락해주세요. 손에 피 한방울 묻히지 않겠습니다.\", \"1945년 태평양 전쟁의 패전 후에 금치훈장에 대한 사무를 소관하고 있던 육군성과 해군성이 모두 폐지되었고, 각각 제1복원성, 제2복원성이 사무를 이어갔다.\"]"
   ]
  },
  {
   "cell_type": "code",
   "execution_count": 106,
   "id": "3faefff2-1a50-407e-a89f-3b587485e946",
   "metadata": {},
   "outputs": [
    {
     "data": {
      "text/plain": [
       "['? 안녕하세요, 어머님. 저는 루다 남자친구 , 상민입니다.',\n",
       " '안녕하세요, 어머님. 저는 ! 루다 남자친구 : 상민 ? 입니다.',\n",
       " '안녕하세요 ; , 어머님. 저는 루다 남자친구 상민입니다.']"
      ]
     },
     "execution_count": 106,
     "metadata": {},
     "output_type": "execute_result"
    }
   ],
   "source": [
    "augmenter = AEDA(\n",
    "    morpheme_analyzer = None,  # Default = \"Okt\"\n",
    "    punc_ratio = 0.5,\n",
    "    punctuations = None  # default = ('.', ',', '!', '?', ';', ':')\n",
    ")\n",
    "\n",
    "augmenter(\n",
    "    data = \"안녕하세요, 어머님. 저는 루다 남자친구 상민입니다.\",\n",
    "    p = None,  # Default = 0.3 \n",
    "    repetition = 3\n",
    ")"
   ]
  },
  {
   "cell_type": "code",
   "execution_count": 115,
   "id": "7679d30e-4399-4ae8-99ba-4255b9d6164f",
   "metadata": {},
   "outputs": [
    {
     "data": {
      "text/plain": [
       "['안녕하세요, 어머님. . 저는 루다 남자친구 상민 ; 입니다.',\n",
       " '안녕하세요, 어머님. 저는 루다 . 남자친구 ! 상민입니다.',\n",
       " '? 안녕하세요, 어머님. 저는 루 : 다 남자친구 : 상민입니다.',\n",
       " '저희 결혼을 ; 허락해주세요. , 손 ; 에 ! 피 . 한방울 묻히지 않겠습니다.',\n",
       " '저희 : 결혼을 허락해주세요. 손에 피 한방울 묻히지 : 않겠습니다.',\n",
       " '저희 결혼을 허락해주세요. 손에 : 피 한방울 묻히지 . 않겠습니다.',\n",
       " '1945년 태평양 전쟁의 . 패전 후에 금치훈장에 대한 사무를 소관하고 있던 육군성과 . 해군성 ; 이 모두 폐지되었고, 각각 . 제1복원성, : 제2복원성 ? 이 ; 사무를 ? 이어 . 갔다.',\n",
       " '1945년 태평양 ? 전쟁의 패전 후 : 에 금치훈장에 대한 사무 ; 를 소관하고 있던 육군성과 해군성이 모두 폐지되었고, 각각 ! 제1 . 복원성, 제2복원성 ? 이 사무를 이어갔다.',\n",
       " '1945년 태평양 전쟁의 ; 패전 후에 금치훈장 . 에 대한 사무 . 를 소관하고 ? 있던 육군성과 해군성이 모두 폐지되었고 , , ? 각각 제1복원성, 제 ! 2복원성 : 이 ? 사무 , 를 이어갔다.']"
      ]
     },
     "execution_count": 115,
     "metadata": {},
     "output_type": "execute_result"
    }
   ],
   "source": [
    "augmenter = AEDA(\n",
    "              morpheme_analyzer = None,  # Default = \"Okt\"\n",
    "              punc_ratio = 0.3,\n",
    "              punctuations = None  # default = ('.', ',', '!', '?', ';', ':')\n",
    "            )\n",
    "\n",
    "augmenter(\n",
    "    data = data,\n",
    "    p = 0.3,  # Default = 0.3 \n",
    "    repetition = 3\n",
    ")"
   ]
  },
  {
   "cell_type": "code",
   "execution_count": 77,
   "id": "6c0842e6-22bc-4880-a173-8a204ca049b4",
   "metadata": {},
   "outputs": [
    {
     "data": {
      "text/plain": [
       "['어머님. 는 루다 남자친구 상민입니다.',\n",
       " '안녕하세요 어머님. 는 남자친구 상민.',\n",
       " ', . 는 남자친구 입니다.',\n",
       " '저희 . 손 피 않겠습니다.',\n",
       " '저희 결혼을 해주세요. 손에 한 묻히지 않겠습니다.',\n",
       " '저희 을 허락해주세요 에 방울 않겠습니다.',\n",
       " '1945년 태평양 전쟁 패전 에 를 소관하고 성과 해군 모두 폐지되었고 제1복원성, 제2복원성 사무를 이어갔다.',\n",
       " '태평양 전쟁 패전 후에 금치훈장에 를 소관 있던 육군성과 해군 모두 폐지되었고, 각각 제1복원성, 복원성 사무를 이어갔다.',\n",
       " '1945년 태평양 전쟁 패전 후에 에 대한 사무를 소관하고 육군성과 해군성이 폐지되었고 각각 제1복원성, 제2이 사무를 이어갔다']"
      ]
     },
     "execution_count": 77,
     "metadata": {},
     "output_type": "execute_result"
    }
   ],
   "source": [
    "augmenter = RD(\n",
    "    morpheme_analyzer = None,\n",
    ")\n",
    "\n",
    "augmenter(\n",
    "    data = data,\n",
    "    p = 0.3,\n",
    "    repetition = 3\n",
    ")"
   ]
  },
  {
   "cell_type": "code",
   "execution_count": 55,
   "id": "5ad0d239-8973-4ea6-9d4a-13ed3b780743",
   "metadata": {},
   "outputs": [
    {
     "data": {
      "text/plain": [
       "['안녕하세요, 어머님. 저는 루다 남자친구 가모 상민입니다.',\n",
       " '안녕하세요, 어머님. 저는 루다 생모 남자친구 상민입니다.',\n",
       " '안녕하세요, 적 어머님. 저는 루다 남자친구 상민입니다.',\n",
       " '저희 결혼을 혼인 허락해주세요. 손에 피 한방울 묻히지 않겠습니다.',\n",
       " '저희 결혼을 허락해주세요. 손에 끝 피 한방울 묻히지 않겠습니다.',\n",
       " '저희 결혼을 허락해주세요. 손에 피 한방울 묻히지 생피 않겠습니다.']"
      ]
     },
     "execution_count": 55,
     "metadata": {},
     "output_type": "execute_result"
    }
   ],
   "source": [
    "augmenter = RI(\n",
    "    morpheme_analyzer = None,\n",
    "    stopword = False,\n",
    ")\n",
    "\n",
    "augmenter(\n",
    "    data = data,\n",
    "    p = 0.1,\n",
    "    repetition = 3\n",
    ")"
   ]
  },
  {
   "cell_type": "code",
   "execution_count": 56,
   "id": "08e9b291-be26-48f8-a160-db22c0ad8659",
   "metadata": {},
   "outputs": [
    {
     "data": {
      "text/plain": [
       "['안녕하세요, 어머님. 저는 루다 남자친구 상민입니다.',\n",
       " '안녕하세요, 어머님. 저는 루다 어미 남자친구 상민입니다.',\n",
       " '안녕하세요, 어머님 엄마 . 저는 루다 남자친구 상민입니다.',\n",
       " '저희 결혼을 허락해주세요. 손에 피 대처 한방울 묻히지 않겠습니다.',\n",
       " '저희 결혼을 허락해주세요. 손에 피 한방울 묻히지 않겠습니다 생피 .',\n",
       " '저희 결혼을 허락해주세요. 손 국한 에 피 한방울 묻히지 않겠습니다.']"
      ]
     },
     "execution_count": 56,
     "metadata": {},
     "output_type": "execute_result"
    }
   ],
   "source": [
    "augmenter = RI(\n",
    "    morpheme_analyzer = None,\n",
    "    stopword = True,\n",
    ")\n",
    "\n",
    "augmenter(\n",
    "    data = data,\n",
    "    p = 0.1,\n",
    "    repetition = 3\n",
    ")"
   ]
  },
  {
   "cell_type": "code",
   "execution_count": 58,
   "id": "7fdfb083-b2c0-4ed4-a9fb-6ffc79e34d0a",
   "metadata": {
    "tags": []
   },
   "outputs": [
    {
     "data": {
      "text/plain": [
       "['안녕하세요, 어머님. 피리는 루다 남자친구 상민입니다.',\n",
       " '안녕하세요, 어머님. 피리는 루다 남자친구 상민입니다.',\n",
       " '안녕하세요, 어머님. 피리는 루다 남자친구 상민입니다.',\n",
       " '저희 혼례을 허락해주세요. 손에 피 한방울 묻히지 않겠습니다.',\n",
       " '저희 결혼을 허락해주세요. 손에 유혈 한방울 묻히지 않겠습니다.',\n",
       " '저희 결혼을 허락해주세요. 손에 피 한경종 묻히지 않겠습니다.']"
      ]
     },
     "execution_count": 58,
     "metadata": {},
     "output_type": "execute_result"
    }
   ],
   "source": [
    "augmenter = SR(\n",
    "    morpheme_analyzer = None,\n",
    "    stopword = False,\n",
    ")\n",
    "\n",
    "augmenter(\n",
    "    data = data,\n",
    "    p = 0.1,\n",
    "    repetition = 3\n",
    ")"
   ]
  },
  {
   "cell_type": "code",
   "execution_count": 59,
   "id": "c7fbcf22-0f38-421a-8142-2970539c37ee",
   "metadata": {},
   "outputs": [
    {
     "data": {
      "text/plain": [
       "['안녕하세요, 엄마. 저는 루다 남자친구 상민입니다.',\n",
       " '안녕하세요, 부모. 저는 루다 남자친구 상민입니다.',\n",
       " '안녕하세요, 모친. 저는 루다 남자친구 상민입니다.',\n",
       " '저희 결혼식을 허락해주세요. 손에 피 한방울 묻히지 않겠습니다.',\n",
       " '저희 결혼을 허락해주세요. 손에 피 한경종 묻히지 않겠습니다.',\n",
       " '저희 결혼을 허락해주세요. 점령에 피 한방울 묻히지 않겠습니다.']"
      ]
     },
     "execution_count": 59,
     "metadata": {},
     "output_type": "execute_result"
    }
   ],
   "source": [
    "augmenter = SR(\n",
    "    morpheme_analyzer = None,\n",
    "    stopword = True,\n",
    ")\n",
    "\n",
    "augmenter(\n",
    "    data = data,\n",
    "    p = 0.1,\n",
    "    repetition = 3\n",
    ")"
   ]
  },
  {
   "cell_type": "code",
   "execution_count": 60,
   "id": "28eafe0d-e720-4afd-83f8-9e93dd784c71",
   "metadata": {
    "tags": []
   },
   "outputs": [
    {
     "data": {
      "text/plain": [
       "['안녕하세요, 어머님. 저는 루다입니다남자친구 상민 .',\n",
       " '안녕하세요, 어머님. 저는 루다 남자친구 상민입니다.',\n",
       " '안녕하세요,다어머님. 저는 루 남자친구 상민입니다.',\n",
       " '저희 결혼을 허락해주세요.묻히지손에 피 한방울 않겠습니다.',\n",
       " '저희 .을 허락해주세요결혼 손에 피 한방울 묻히지 않겠습니다.',\n",
       " '저희 결혼을 손해주세요. 허락에 피 한방울 묻히지 않겠습니다.']"
      ]
     },
     "execution_count": 60,
     "metadata": {},
     "output_type": "execute_result"
    }
   ],
   "source": [
    "augmenter = RS(\n",
    "    morpheme_analyzer = None,\n",
    ")\n",
    "\n",
    "\n",
    "augmenter(\n",
    "    data = data,\n",
    "    p = 0.1,\n",
    "    repetition = 3\n",
    ")"
   ]
  },
  {
   "cell_type": "code",
   "execution_count": 154,
   "id": "8cf665da-626d-4d9a-9a3b-9369292474bc",
   "metadata": {},
   "outputs": [],
   "source": [
    "import numpy as np\n",
    "import pandas as pd\n",
    "import matplotlib as mpl\n",
    "import matplotlib.pyplot as plt\n",
    "import seaborn as sns\n",
    "import pickle\n",
    "from tqdm import tqdm\n",
    "pd.options.display.max_colwidth = 300"
   ]
  },
  {
   "cell_type": "markdown",
   "id": "7d5cc684-2a4e-4304-bc20-d9058351a743",
   "metadata": {},
   "source": [
    "# Approach #1 Ratio"
   ]
  },
  {
   "cell_type": "code",
   "execution_count": 80,
   "id": "fb0de210-cd7a-4897-a252-9688b8f7e13c",
   "metadata": {},
   "outputs": [
    {
     "data": {
      "text/html": [
       "<div>\n",
       "<style scoped>\n",
       "    .dataframe tbody tr th:only-of-type {\n",
       "        vertical-align: middle;\n",
       "    }\n",
       "\n",
       "    .dataframe tbody tr th {\n",
       "        vertical-align: top;\n",
       "    }\n",
       "\n",
       "    .dataframe thead th {\n",
       "        text-align: right;\n",
       "    }\n",
       "</style>\n",
       "<table border=\"1\" class=\"dataframe\">\n",
       "  <thead>\n",
       "    <tr style=\"text-align: right;\">\n",
       "      <th></th>\n",
       "      <th>id</th>\n",
       "      <th>sentence</th>\n",
       "      <th>subject_entity</th>\n",
       "      <th>object_entity</th>\n",
       "      <th>label</th>\n",
       "      <th>source</th>\n",
       "    </tr>\n",
       "  </thead>\n",
       "  <tbody>\n",
       "    <tr>\n",
       "      <th>25042</th>\n",
       "      <td>3735</td>\n",
       "      <td>오스트리아의 에른스트 하펠과 더불어 축구 역사상 가장 성공적인 감독 중 하나로, 리그 타이틀을 4개국 (이탈리아, 독일, 포르투갈, 오스트리아) 에서 획득한 감독이다.</td>\n",
       "      <td>{'word': '에른스트 하펠', 'start_idx': 7, 'end_idx': 13, 'type': 'PER'}</td>\n",
       "      <td>{'word': '오스트리아', 'start_idx': 0, 'end_idx': 4, 'type': 'LOC'}</td>\n",
       "      <td>per:origin</td>\n",
       "      <td>wikipedia</td>\n",
       "    </tr>\n",
       "    <tr>\n",
       "      <th>2493</th>\n",
       "      <td>18979</td>\n",
       "      <td>전남도소방본부(본부장 마재윤)는 '2019년 국민참여 청렴콘텐츠 공모전' 스토리텔링 부문에서 장성소방서와 나주소방서가 수상 영예를 안았다고 12일 밝혔다.</td>\n",
       "      <td>{'word': '장성소방서', 'start_idx': 52, 'end_idx': 56, 'type': 'ORG'}</td>\n",
       "      <td>{'word': '2019년', 'start_idx': 19, 'end_idx': 23, 'type': 'DAT'}</td>\n",
       "      <td>no_relation</td>\n",
       "      <td>wikitree</td>\n",
       "    </tr>\n",
       "    <tr>\n",
       "      <th>22016</th>\n",
       "      <td>29246</td>\n",
       "      <td>양지환 대신증권 연구원은 “CJ그룹은 9일 이재현 회장이 보유했던 전환상환우선주를 자녀인 이경후, 이선호에게 증여하고, CJ제일제당 재무구조 개선을 위한 자산 유동화 방안을 발표했다”며 “이번 증여로 인해 이경후, 이선호의 CJ전환상환우선주의 보유주식수 및 지분율은 각각 127만2380주(3.57%)와 172만3360주(4.83%)로 증가할 예정“이라고 말했다.</td>\n",
       "      <td>{'word': 'CJ제일제당', 'start_idx': 67, 'end_idx': 72, 'type': 'ORG'}</td>\n",
       "      <td>{'word': '이재현', 'start_idx': 24, 'end_idx': 26, 'type': 'PER'}</td>\n",
       "      <td>org:top_members/employees</td>\n",
       "      <td>wikitree</td>\n",
       "    </tr>\n",
       "  </tbody>\n",
       "</table>\n",
       "</div>"
      ],
      "text/plain": [
       "          id  \\\n",
       "25042   3735   \n",
       "2493   18979   \n",
       "22016  29246   \n",
       "\n",
       "                                                                                                                                                                                                          sentence  \\\n",
       "25042                                                                                                                오스트리아의 에른스트 하펠과 더불어 축구 역사상 가장 성공적인 감독 중 하나로, 리그 타이틀을 4개국 (이탈리아, 독일, 포르투갈, 오스트리아) 에서 획득한 감독이다.   \n",
       "2493                                                                                                                        전남도소방본부(본부장 마재윤)는 '2019년 국민참여 청렴콘텐츠 공모전' 스토리텔링 부문에서 장성소방서와 나주소방서가 수상 영예를 안았다고 12일 밝혔다.   \n",
       "22016  양지환 대신증권 연구원은 “CJ그룹은 9일 이재현 회장이 보유했던 전환상환우선주를 자녀인 이경후, 이선호에게 증여하고, CJ제일제당 재무구조 개선을 위한 자산 유동화 방안을 발표했다”며 “이번 증여로 인해 이경후, 이선호의 CJ전환상환우선주의 보유주식수 및 지분율은 각각 127만2380주(3.57%)와 172만3360주(4.83%)로 증가할 예정“이라고 말했다.   \n",
       "\n",
       "                                                          subject_entity  \\\n",
       "25042  {'word': '에른스트 하펠', 'start_idx': 7, 'end_idx': 13, 'type': 'PER'}   \n",
       "2493    {'word': '장성소방서', 'start_idx': 52, 'end_idx': 56, 'type': 'ORG'}   \n",
       "22016  {'word': 'CJ제일제당', 'start_idx': 67, 'end_idx': 72, 'type': 'ORG'}   \n",
       "\n",
       "                                                          object_entity  \\\n",
       "25042    {'word': '오스트리아', 'start_idx': 0, 'end_idx': 4, 'type': 'LOC'}   \n",
       "2493   {'word': '2019년', 'start_idx': 19, 'end_idx': 23, 'type': 'DAT'}   \n",
       "22016    {'word': '이재현', 'start_idx': 24, 'end_idx': 26, 'type': 'PER'}   \n",
       "\n",
       "                           label     source  \n",
       "25042                 per:origin  wikipedia  \n",
       "2493                 no_relation   wikitree  \n",
       "22016  org:top_members/employees   wikitree  "
      ]
     },
     "execution_count": 80,
     "metadata": {},
     "output_type": "execute_result"
    }
   ],
   "source": [
    "df = pd.read_csv('./dataset/train/stratified_train.csv')\n",
    "df.sample(3)"
   ]
  },
  {
   "cell_type": "code",
   "execution_count": 89,
   "id": "2810db28-8e61-4bd9-98f3-a25a5d848f1c",
   "metadata": {},
   "outputs": [
    {
     "data": {
      "text/plain": [
       "({'no_relation': 7627,\n",
       "  'org:top_members/employees': 3427,\n",
       "  'per:employee_of': 2859,\n",
       "  'per:title': 1683,\n",
       "  'org:member_of': 1493,\n",
       "  'org:alternate_names': 1056,\n",
       "  'per:origin': 987,\n",
       "  'org:place_of_headquarters': 956,\n",
       "  'per:date_of_birth': 904,\n",
       "  'per:alternate_names': 801,\n",
       "  'per:spouse': 636,\n",
       "  'per:colleagues': 427,\n",
       "  'per:parents': 416,\n",
       "  'org:founded': 360,\n",
       "  'org:members': 336,\n",
       "  'per:date_of_death': 334,\n",
       "  'org:product': 304,\n",
       "  'per:children': 243,\n",
       "  'per:place_of_residence': 154,\n",
       "  'per:other_family': 152,\n",
       "  'per:place_of_birth': 133,\n",
       "  'org:founded_by': 124,\n",
       "  'per:product': 111,\n",
       "  'per:siblings': 109,\n",
       "  'org:political/religious_affiliation': 78,\n",
       "  'per:religion': 77,\n",
       "  'per:schools_attended': 66,\n",
       "  'org:dissolved': 53,\n",
       "  'org:number_of_employees/members': 38,\n",
       "  'per:place_of_death': 32},\n",
       " 865,\n",
       " 3427)"
      ]
     },
     "execution_count": 89,
     "metadata": {},
     "output_type": "execute_result"
    }
   ],
   "source": [
    "count_dict = dict(df.label.value_counts())\n",
    "mean = int(df.label.value_counts().mean())\n",
    "maxi = sorted(df.label.value_counts())[-2]\n",
    "count, mean, maxi"
   ]
  },
  {
   "cell_type": "code",
   "execution_count": 116,
   "id": "ae22ba3b-5d20-4818-bdd6-5790d6294266",
   "metadata": {},
   "outputs": [],
   "source": [
    "\n"
   ]
  },
  {
   "cell_type": "code",
   "execution_count": null,
   "id": "a0c60fc3-5f8c-4f9b-a810-ce80f662b0ae",
   "metadata": {},
   "outputs": [],
   "source": []
  },
  {
   "cell_type": "code",
   "execution_count": null,
   "id": "223755af-a43a-4893-874e-1377a1842450",
   "metadata": {},
   "outputs": [],
   "source": []
  },
  {
   "cell_type": "code",
   "execution_count": null,
   "id": "1686e217-1cdd-4bab-a94e-e0379b915e26",
   "metadata": {},
   "outputs": [],
   "source": []
  },
  {
   "cell_type": "code",
   "execution_count": null,
   "id": "b5c8e814-668f-495b-979f-3bdb3cb1fd7f",
   "metadata": {},
   "outputs": [],
   "source": []
  },
  {
   "cell_type": "code",
   "execution_count": null,
   "id": "40f572d5-edaf-46ab-93bc-7a073b84e0d9",
   "metadata": {},
   "outputs": [],
   "source": []
  },
  {
   "cell_type": "code",
   "execution_count": null,
   "id": "e0162b7e-0152-4c28-bfd0-52d500fae8ce",
   "metadata": {},
   "outputs": [],
   "source": []
  },
  {
   "cell_type": "markdown",
   "id": "23b88b96-b2dc-42bf-818d-c3878023385e",
   "metadata": {},
   "source": [
    "# Approach #2 Incorrect"
   ]
  },
  {
   "cell_type": "markdown",
   "id": "3b17bac1-d278-4c8a-ba2e-cef084769794",
   "metadata": {},
   "source": [
    "# Approach #3 Perplex"
   ]
  },
  {
   "cell_type": "code",
   "execution_count": null,
   "id": "6202aa0c-ed01-4ba0-8d3c-3f7f5a19ffac",
   "metadata": {},
   "outputs": [],
   "source": []
  }
 ],
 "metadata": {
  "kernelspec": {
   "display_name": "Python 3 (ipykernel)",
   "language": "python",
   "name": "python3"
  },
  "language_info": {
   "codemirror_mode": {
    "name": "ipython",
    "version": 3
   },
   "file_extension": ".py",
   "mimetype": "text/x-python",
   "name": "python",
   "nbconvert_exporter": "python",
   "pygments_lexer": "ipython3",
   "version": "3.8.5"
  }
 },
 "nbformat": 4,
 "nbformat_minor": 5
}